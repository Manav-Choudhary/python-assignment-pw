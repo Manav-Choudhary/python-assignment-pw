{
 "cells": [
  {
   "cell_type": "code",
   "execution_count": 1,
   "id": "e9d76cd9",
   "metadata": {},
   "outputs": [
    {
     "name": "stdout",
     "output_type": "stream",
     "text": [
      "Hi pwskills\n"
     ]
    }
   ],
   "source": [
    "#Ques 1\n",
    "#Class->a template/blueprint of an object\n",
    "#Object->instance of a class\n",
    "class pwskills:\n",
    "    def func(self):\n",
    "        print(\"Hi pwskills\")\n",
    "obj=pwskills()\n",
    "obj.func()"
   ]
  },
  {
   "cell_type": "code",
   "execution_count": 30,
   "id": "61ca9cdb",
   "metadata": {},
   "outputs": [
    {
     "name": "stdout",
     "output_type": "stream",
     "text": [
      "Constructor in A called\n",
      "My name is Manav and subject is Data Science\n",
      "My name is Shubh and subject is Web development\n",
      "I have completed my web dev project\n",
      "Your current Balance is 1500\n"
     ]
    }
   ],
   "source": [
    "#Ques 2\n",
    "#Four Pillars of OOPs are\n",
    "#1)Inheritance->In this derived classes are acquiring the properties of base class.\n",
    "\n",
    "class A:\n",
    "    def __init__(self):\n",
    "        print(\"Constructor in A called\")\n",
    "class B(A):\n",
    "    pass\n",
    "obj=B()\n",
    "\n",
    "#2)Polymorphism-:ability to exist in more than 1 form\n",
    "\n",
    "class data_science:\n",
    "    def __init__(self,name,subject):\n",
    "        self.name=name\n",
    "        self.subject=subject\n",
    "    def info(self):\n",
    "        return \"My name is {} and subject is {}\".format(self.name,self.subject)\n",
    "class web_dev:\n",
    "    def __init__(self,name,subject):\n",
    "        self.name=name\n",
    "        self.subject=subject\n",
    "    def info(self):\n",
    "        return \"My name is {} and subject is {}\".format(self.name,self.subject)\n",
    "ds=data_science(\"Manav\",\"Data Science\")\n",
    "wb=web_dev(\"Shubh\",\"Web development\")\n",
    "mylist=[ds,wb]\n",
    "def func(mylist):\n",
    "    for i in mylist:\n",
    "        print(i.info())\n",
    "func(mylist)\n",
    "\n",
    "#3)Abstraction->hiding underlying complexties and showing only relevant details to users at a specific level\n",
    "\n",
    "import abc\n",
    "\n",
    "class Student(abc.ABC):\n",
    "    @abc.abstractmethod\n",
    "    def student_details(self):\n",
    "        pass\n",
    "    \n",
    "    @abc.abstractmethod\n",
    "    def student_assignment(self):\n",
    "        pass\n",
    "\n",
    "class DataScience(Student):\n",
    "    def student_assignment(self):\n",
    "        print(\"I have completed my data science project\")\n",
    "\n",
    "class WebDev(Student):\n",
    "    def student_details(self):\n",
    "        print(\"I am a web dev student\")\n",
    "    \n",
    "    def student_assignment(self):\n",
    "        print(\"I have completed my web dev project\")\n",
    "\n",
    "obj =WebDev()\n",
    "obj.student_assignment()\n",
    "\n",
    "#4)Encapsulation->binding of data member and member methods into a single entity\n",
    "\n",
    "class Account:\n",
    "    def __init__(self,balance):\n",
    "        self.__balance=balance\n",
    "    def deposit(self,amount):\n",
    "        self.__balance=self.__balance+amount\n",
    "    def withdrawl(self,amount):\n",
    "        if self.__balance>=amount:\n",
    "            self.__balance=self.__balance-amount\n",
    "        else:\n",
    "            return \"Insufficient Balance\"\n",
    "    def checkBalance(self):\n",
    "        print(\"Your current Balance is {}\".format(self.__balance))\n",
    "obj=Account(2000)\n",
    "obj.deposit(500)\n",
    "obj.withdrawl(1000)\n",
    "obj.checkBalance()"
   ]
  },
  {
   "cell_type": "code",
   "execution_count": 32,
   "id": "a8d98023",
   "metadata": {},
   "outputs": [
    {
     "name": "stdout",
     "output_type": "stream",
     "text": [
      "Name is Manav Age is 22 Address is Lucknow\n"
     ]
    }
   ],
   "source": [
    "#Ques 3\n",
    "#__init__() is a constructor in python which is used to initialize data-members in a class.\n",
    "class A:\n",
    "    def __init__(self,name,age,address):\n",
    "        self.name=name\n",
    "        self.age=age\n",
    "        self.address=address\n",
    "    def details(self):\n",
    "        print(\"Name is {} Age is {} Address is {}\".format(self.name,self.age,self.address))\n",
    "obj=A(\"Manav\",22,\"Lucknow\")\n",
    "obj.details()"
   ]
  },
  {
   "cell_type": "code",
   "execution_count": 34,
   "id": "36eeb781",
   "metadata": {},
   "outputs": [
    {
     "name": "stdout",
     "output_type": "stream",
     "text": [
      "Hi I am function inside a class\n"
     ]
    }
   ],
   "source": [
    "#Ques 4\n",
    "#Self is like 'this' keyword in java .It refers to the current object\n",
    "#It is used to refer to data member and member functions inside a class\n",
    "class A:\n",
    "    def fun(self):\n",
    "        print(\"Hi I am function inside a class\")\n",
    "obj=A()\n",
    "A.fun(obj)\n",
    "#Here we are passing the current object as a argument"
   ]
  },
  {
   "cell_type": "code",
   "execution_count": 2,
   "id": "9272ce91",
   "metadata": {},
   "outputs": [],
   "source": [
    "#Ques 5\n",
    "#Inheritance->acquiring the properties of another class.Like Child inheriting features from its parents\n",
    "#Types of inheritance\n",
    "#Single Inheritance\n",
    "class A:\n",
    "    pass\n",
    "class B(A):\n",
    "    pass\n",
    "obj=B()\n",
    "#Multi-level inheritance\n",
    "class A:\n",
    "    pass\n",
    "class B(A):\n",
    "    pass\n",
    "class C(B):\n",
    "    pass\n",
    "obj=C()\n",
    "#Multi-level inheritance\n",
    "class A:\n",
    "    pass\n",
    "class B:\n",
    "    pass\n",
    "class C(A,B):\n",
    "    pass\n",
    "#Hiearchial inheritance\n",
    "class A:\n",
    "    pass\n",
    "class B(A):\n",
    "    pass\n",
    "class C(A):\n",
    "    pass\n",
    "#Hybrid->combines more than 1 form of inheritance\n",
    "#Combining hierarchial and multiple inheritance\n",
    "class A:\n",
    "    pass\n",
    "class B(A):\n",
    "    pass\n",
    "class C(A):\n",
    "    pass\n",
    "class D(B,C):\n",
    "    pass\n",
    "obj=D()"
   ]
  },
  {
   "cell_type": "code",
   "execution_count": null,
   "id": "434dc92c",
   "metadata": {},
   "outputs": [],
   "source": []
  }
 ],
 "metadata": {
  "kernelspec": {
   "display_name": "Python 3 (ipykernel)",
   "language": "python",
   "name": "python3"
  },
  "language_info": {
   "codemirror_mode": {
    "name": "ipython",
    "version": 3
   },
   "file_extension": ".py",
   "mimetype": "text/x-python",
   "name": "python",
   "nbconvert_exporter": "python",
   "pygments_lexer": "ipython3",
   "version": "3.9.7"
  }
 },
 "nbformat": 4,
 "nbformat_minor": 5
}
